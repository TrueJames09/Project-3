{
 "cells": [
  {
   "cell_type": "code",
   "execution_count": 60,
   "id": "9c19346d",
   "metadata": {},
   "outputs": [],
   "source": [
    "import prophet \n",
    "# video link https://youtu.be/kx-Lz4Yvy9E\n",
    "# source link https://www.kaggle.com/code/prashant111/tutorial-time-series-forecasting-with-prophet"
   ]
  },
  {
   "cell_type": "code",
   "execution_count": 35,
   "id": "e672364b",
   "metadata": {},
   "outputs": [],
   "source": [
    "import plotly.offline as py"
   ]
  },
  {
   "cell_type": "code",
   "execution_count": 36,
   "id": "6b1c3f87",
   "metadata": {},
   "outputs": [],
   "source": [
    "import numpy as np\n",
    "import pandas as pd\n",
    "import matplotlib.pyplot as plt\n",
    "%matplotlib inline\n",
    "plt.style.use('fivethirtyeight')"
   ]
  },
  {
   "cell_type": "code",
   "execution_count": 37,
   "id": "16d5594e",
   "metadata": {},
   "outputs": [],
   "source": [
    "df = pd.read_csv('Border_Crossing_Entry_Data.csv')"
   ]
  },
  {
   "cell_type": "code",
   "execution_count": 38,
   "id": "57f1a505",
   "metadata": {},
   "outputs": [
    {
     "name": "stdout",
     "output_type": "stream",
     "text": [
      "shape (387324, 10)\n"
     ]
    }
   ],
   "source": [
    "df.head()\n",
    "print(\"shape\", df.shape)"
   ]
  },
  {
   "cell_type": "code",
   "execution_count": 39,
   "id": "deda47d0",
   "metadata": {},
   "outputs": [],
   "source": [
    "df['Date'] = pd.DatetimeIndex(df['Date'])"
   ]
  },
  {
   "cell_type": "code",
   "execution_count": 40,
   "id": "c0115413",
   "metadata": {},
   "outputs": [
    {
     "data": {
      "text/plain": [
       "Port Name            object\n",
       "State                object\n",
       "Port Code             int64\n",
       "Border               object\n",
       "Date         datetime64[ns]\n",
       "Measure              object\n",
       "Value                 int64\n",
       "Latitude            float64\n",
       "Longitude           float64\n",
       "Point                object\n",
       "dtype: object"
      ]
     },
     "execution_count": 40,
     "metadata": {},
     "output_type": "execute_result"
    }
   ],
   "source": [
    "df.dtypes"
   ]
  },
  {
   "cell_type": "code",
   "execution_count": 41,
   "id": "0cbd5f41",
   "metadata": {},
   "outputs": [],
   "source": [
    "remove = ['Port Name','Port Code','Measure','Latitude','Longitude','Point']"
   ]
  },
  {
   "cell_type": "code",
   "execution_count": 42,
   "id": "39ebf326",
   "metadata": {},
   "outputs": [],
   "source": [
    "df.drop(remove, inplace=True, axis=1)\n"
   ]
  },
  {
   "cell_type": "code",
   "execution_count": 43,
   "id": "f4f11b1e",
   "metadata": {},
   "outputs": [
    {
     "data": {
      "text/plain": [
       "State             object\n",
       "Border            object\n",
       "Date      datetime64[ns]\n",
       "Value              int64\n",
       "dtype: object"
      ]
     },
     "execution_count": 43,
     "metadata": {},
     "output_type": "execute_result"
    }
   ],
   "source": [
    "df.dtypes"
   ]
  },
  {
   "cell_type": "code",
   "execution_count": 44,
   "id": "98bfae79",
   "metadata": {},
   "outputs": [],
   "source": [
    "df = df[df.State == 'Texas']"
   ]
  },
  {
   "cell_type": "code",
   "execution_count": 45,
   "id": "bec4bf64",
   "metadata": {},
   "outputs": [
    {
     "name": "stdout",
     "output_type": "stream",
     "text": [
      "shape (40962, 4)\n"
     ]
    }
   ],
   "source": [
    "print(\"shape\", df.shape)"
   ]
  },
  {
   "cell_type": "code",
   "execution_count": 46,
   "id": "79d5bd86",
   "metadata": {},
   "outputs": [
    {
     "data": {
      "text/html": [
       "<div>\n",
       "<style scoped>\n",
       "    .dataframe tbody tr th:only-of-type {\n",
       "        vertical-align: middle;\n",
       "    }\n",
       "\n",
       "    .dataframe tbody tr th {\n",
       "        vertical-align: top;\n",
       "    }\n",
       "\n",
       "    .dataframe thead th {\n",
       "        text-align: right;\n",
       "    }\n",
       "</style>\n",
       "<table border=\"1\" class=\"dataframe\">\n",
       "  <thead>\n",
       "    <tr style=\"text-align: right;\">\n",
       "      <th></th>\n",
       "      <th>State</th>\n",
       "      <th>Border</th>\n",
       "      <th>Date</th>\n",
       "      <th>Value</th>\n",
       "    </tr>\n",
       "  </thead>\n",
       "  <tbody>\n",
       "    <tr>\n",
       "      <th>6</th>\n",
       "      <td>Texas</td>\n",
       "      <td>US-Mexico Border</td>\n",
       "      <td>2023-08-01</td>\n",
       "      <td>47</td>\n",
       "    </tr>\n",
       "    <tr>\n",
       "      <th>10</th>\n",
       "      <td>Texas</td>\n",
       "      <td>US-Mexico Border</td>\n",
       "      <td>2023-06-01</td>\n",
       "      <td>252039</td>\n",
       "    </tr>\n",
       "    <tr>\n",
       "      <th>13</th>\n",
       "      <td>Texas</td>\n",
       "      <td>US-Mexico Border</td>\n",
       "      <td>2023-02-01</td>\n",
       "      <td>229763</td>\n",
       "    </tr>\n",
       "    <tr>\n",
       "      <th>20</th>\n",
       "      <td>Texas</td>\n",
       "      <td>US-Mexico Border</td>\n",
       "      <td>2022-09-01</td>\n",
       "      <td>19</td>\n",
       "    </tr>\n",
       "    <tr>\n",
       "      <th>28</th>\n",
       "      <td>Texas</td>\n",
       "      <td>US-Mexico Border</td>\n",
       "      <td>2022-02-01</td>\n",
       "      <td>1988</td>\n",
       "    </tr>\n",
       "  </tbody>\n",
       "</table>\n",
       "</div>"
      ],
      "text/plain": [
       "    State            Border       Date   Value\n",
       "6   Texas  US-Mexico Border 2023-08-01      47\n",
       "10  Texas  US-Mexico Border 2023-06-01  252039\n",
       "13  Texas  US-Mexico Border 2023-02-01  229763\n",
       "20  Texas  US-Mexico Border 2022-09-01      19\n",
       "28  Texas  US-Mexico Border 2022-02-01    1988"
      ]
     },
     "execution_count": 46,
     "metadata": {},
     "output_type": "execute_result"
    }
   ],
   "source": [
    "df.head()"
   ]
  },
  {
   "cell_type": "code",
   "execution_count": 47,
   "id": "d5e0f738",
   "metadata": {},
   "outputs": [
    {
     "name": "stdout",
     "output_type": "stream",
     "text": [
      "        State            Border       Date   Value\n",
      "387236  Texas  US-Mexico Border 1997-06-01      12\n",
      "387240  Texas  US-Mexico Border 1996-07-01   34061\n",
      "387243  Texas  US-Mexico Border 1997-06-01   31671\n",
      "387266  Texas  US-Mexico Border 1997-08-01     101\n",
      "387285  Texas  US-Mexico Border 1996-11-01     427\n",
      "387292  Texas  US-Mexico Border 1996-09-01       0\n",
      "387293  Texas  US-Mexico Border 1997-08-01    3135\n",
      "387295  Texas  US-Mexico Border 1996-12-01       0\n",
      "387298  Texas  US-Mexico Border 1997-09-01    7523\n",
      "387300  Texas  US-Mexico Border 1997-09-01  514253\n"
     ]
    }
   ],
   "source": [
    "print(df.tail(10))"
   ]
  },
  {
   "cell_type": "code",
   "execution_count": 52,
   "id": "ab4aa383",
   "metadata": {},
   "outputs": [],
   "source": [
    "remove = ['State','Border']"
   ]
  },
  {
   "cell_type": "code",
   "execution_count": 53,
   "id": "3cb7f79c",
   "metadata": {},
   "outputs": [],
   "source": [
    "df.drop(remove, inplace=True, axis=1)"
   ]
  },
  {
   "cell_type": "code",
   "execution_count": 54,
   "id": "31e378fc",
   "metadata": {},
   "outputs": [
    {
     "data": {
      "text/plain": [
       "Date     datetime64[ns]\n",
       "Value             int64\n",
       "dtype: object"
      ]
     },
     "execution_count": 54,
     "metadata": {},
     "output_type": "execute_result"
    }
   ],
   "source": [
    "df.dtypes"
   ]
  },
  {
   "cell_type": "code",
   "execution_count": 55,
   "id": "0421468c",
   "metadata": {},
   "outputs": [],
   "source": [
    "df = df.rename(columns={'Date': 'ds',\n",
    "                        'Value': 'y'})"
   ]
  },
  {
   "cell_type": "code",
   "execution_count": 56,
   "id": "0469c47d",
   "metadata": {},
   "outputs": [
    {
     "data": {
      "text/html": [
       "<div>\n",
       "<style scoped>\n",
       "    .dataframe tbody tr th:only-of-type {\n",
       "        vertical-align: middle;\n",
       "    }\n",
       "\n",
       "    .dataframe tbody tr th {\n",
       "        vertical-align: top;\n",
       "    }\n",
       "\n",
       "    .dataframe thead th {\n",
       "        text-align: right;\n",
       "    }\n",
       "</style>\n",
       "<table border=\"1\" class=\"dataframe\">\n",
       "  <thead>\n",
       "    <tr style=\"text-align: right;\">\n",
       "      <th></th>\n",
       "      <th>ds</th>\n",
       "      <th>y</th>\n",
       "    </tr>\n",
       "  </thead>\n",
       "  <tbody>\n",
       "    <tr>\n",
       "      <th>6</th>\n",
       "      <td>2023-08-01</td>\n",
       "      <td>47</td>\n",
       "    </tr>\n",
       "    <tr>\n",
       "      <th>10</th>\n",
       "      <td>2023-06-01</td>\n",
       "      <td>252039</td>\n",
       "    </tr>\n",
       "    <tr>\n",
       "      <th>13</th>\n",
       "      <td>2023-02-01</td>\n",
       "      <td>229763</td>\n",
       "    </tr>\n",
       "    <tr>\n",
       "      <th>20</th>\n",
       "      <td>2022-09-01</td>\n",
       "      <td>19</td>\n",
       "    </tr>\n",
       "    <tr>\n",
       "      <th>28</th>\n",
       "      <td>2022-02-01</td>\n",
       "      <td>1988</td>\n",
       "    </tr>\n",
       "  </tbody>\n",
       "</table>\n",
       "</div>"
      ],
      "text/plain": [
       "           ds       y\n",
       "6  2023-08-01      47\n",
       "10 2023-06-01  252039\n",
       "13 2023-02-01  229763\n",
       "20 2022-09-01      19\n",
       "28 2022-02-01    1988"
      ]
     },
     "execution_count": 56,
     "metadata": {},
     "output_type": "execute_result"
    }
   ],
   "source": [
    "df.head()"
   ]
  },
  {
   "cell_type": "code",
   "execution_count": 57,
   "id": "8da99259",
   "metadata": {},
   "outputs": [
    {
     "data": {
      "image/png": "[encoded data removed]",
      "text/plain": [
       "<Figure size 1200x800 with 1 Axes>"
      ]
     },
     "metadata": {},
     "output_type": "display_data"
    }
   ],
   "source": [
    "ax = df.set_index('ds').plot(figsize=(12, 8))\n",
    "ax.set_ylabel('Monthly Number of immigrants')\n",
    "ax.set_xlabel('Date')\n",
    "\n",
    "plt.show()"
   ]
  },
  {
   "cell_type": "code",
   "execution_count": 62,
   "id": "4e5b364c",
   "metadata": {},
   "outputs": [
    {
     "ename": "TypeError",
     "evalue": "'module' object is not callable",
     "output_type": "error",
     "traceback": [
      "\u001b[1;31m---------------------------------------------------------------------------\u001b[0m",
      "\u001b[1;31mTypeError\u001b[0m                                 Traceback (most recent call last)",
      "Cell \u001b[1;32mIn[62], line 1\u001b[0m\n\u001b[1;32m----> 1\u001b[0m my_model \u001b[38;5;241m=\u001b[39m prophet(interval_width\u001b[38;5;241m=\u001b[39m\u001b[38;5;241m0.95\u001b[39m)\n",
      "\u001b[1;31mTypeError\u001b[0m: 'module' object is not callable"
     ]
    }
   ],
   "source": [
    "my_model = prophet(interval_width=0.95)"
   ]
  },
  {
   "cell_type": "code",
   "execution_count": null,
   "id": "5dc4bcda",
   "metadata": {},
   "outputs": [],
   "source": []
  }
 ],
 "metadata": {
  "kernelspec": {
   "display_name": "Python 3 (ipykernel)",
   "language": "python",
   "name": "python3"
  },
  "language_info": {
   "codemirror_mode": {
    "name": "ipython",
    "version": 3
   },
   "file_extension": ".py",
   "mimetype": "text/x-python",
   "name": "python",
   "nbconvert_exporter": "python",
   "pygments_lexer": "ipython3",
   "version": "3.11.4"
  }
 },
 "nbformat": 4,
 "nbformat_minor": 5
}
